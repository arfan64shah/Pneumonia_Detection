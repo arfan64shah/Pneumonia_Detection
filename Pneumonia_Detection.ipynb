{
 "cells": [
  {
   "cell_type": "code",
   "execution_count": 2,
   "id": "3eac08ba-9565-422a-95f4-e695d1bc4ce6",
   "metadata": {},
   "outputs": [],
   "source": [
    "# This is the link for dataset of kaggle: https://www.kaggle.com/datasets/paultimothymooney/chest-xray-pneumonia\n",
    "# import some basic libraries\n",
    "import pandas as pd\n",
    "import numpy as np\n",
    "import plotly.graph_objects as go\n",
    "import xlsxwriter as xlsx"
   ]
  },
  {
   "cell_type": "markdown",
   "id": "4e5aa05b-e065-4be3-acbb-127beb99c1d3",
   "metadata": {},
   "source": [
    "### Create Excel File, Extract Features, and Store them in the Excel File for Normal Images"
   ]
  },
  {
   "cell_type": "code",
   "execution_count": 3,
   "id": "f2e9a2d9-28e1-40a2-a8d5-4d329379a116",
   "metadata": {},
   "outputs": [],
   "source": [
    "# now create a workbook and worksheet\n",
    "workbook = xlsx.Workbook('normal.xlsx')\n",
    "worksheet = workbook.add_worksheet()\n",
    "\n",
    "worksheet.write('A1', 'Red_Mean')\n",
    "worksheet.write('B1', 'Red_Median')\n",
    "worksheet.write('C1', 'Red_Mode')\n",
    "worksheet.write('D1', 'Red_Variance')\n",
    "worksheet.write('E1', 'Red_Std')\n",
    "worksheet.write('F1', 'Green_Mean')\n",
    "worksheet.write('G1', 'Green_Median')\n",
    "worksheet.write('H1', 'Green_Mode')\n",
    "worksheet.write('I1', 'Green_Variance')\n",
    "worksheet.write('J1', 'Green_Std')\n",
    "worksheet.write('K1', 'Blue_Mean')\n",
    "worksheet.write('L1', 'Blue_Median')\n",
    "worksheet.write('M1', 'Blue_Mode')\n",
    "worksheet.write('N1', 'Blue_Variance')\n",
    "worksheet.write('O1', 'Blue_Std')\n",
    "workbook.close()"
   ]
  },
  {
   "cell_type": "code",
   "execution_count": null,
   "id": "e314baa2-28df-4d4a-b7fb-f91631fde5c5",
   "metadata": {},
   "outputs": [],
   "source": []
  }
 ],
 "metadata": {
  "kernelspec": {
   "display_name": "Python 3 (ipykernel)",
   "language": "python",
   "name": "python3"
  },
  "language_info": {
   "codemirror_mode": {
    "name": "ipython",
    "version": 3
   },
   "file_extension": ".py",
   "mimetype": "text/x-python",
   "name": "python",
   "nbconvert_exporter": "python",
   "pygments_lexer": "ipython3",
   "version": "3.11.7"
  }
 },
 "nbformat": 4,
 "nbformat_minor": 5
}
